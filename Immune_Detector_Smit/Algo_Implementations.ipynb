{
 "cells": [
  {
   "cell_type": "code",
   "execution_count": 1,
   "metadata": {},
   "outputs": [],
   "source": [
    "import numpy as np\n",
    "import pandas as pd\n",
    "from sklearn.model_selection import train_test_split\n",
    "import joblib\n",
    "from sklearn import preprocessing\n",
    "from sklearn.decomposition import PCA\n",
    "from sklearn.naive_bayes import GaussianNB\n",
    "from sklearn.tree import DecisionTreeClassifier  \n",
    "from sklearn.neighbors import KNeighborsClassifier\n",
    "from sklearn.linear_model import SGDClassifier\n",
    "from sklearn.ensemble import GradientBoostingClassifier\n",
    "from sklearn.ensemble import AdaBoostClassifier\n",
    "from sklearn import svm\n",
    "from sklearn.neural_network import MLPClassifier\n",
    "from sklearn.cluster import KMeans\n",
    "from sklearn.linear_model import LogisticRegression\n",
    "from sklearn.metrics import accuracy_score"
   ]
  },
  {
   "cell_type": "code",
   "execution_count": 2,
   "metadata": {
    "scrolled": true
   },
   "outputs": [],
   "source": [
    "## Load the dataset\n",
    "data = pd.read_excel('Data_female.xlsx',header=None)\n",
    "X = data.iloc[:,:-1]\n",
    "y = data.iloc[:,-1]\n",
    "X_train, X_test, y_train, y_test = train_test_split(X, y, test_size=0.33, random_state=42)"
   ]
  },
  {
   "cell_type": "code",
   "execution_count": 3,
   "metadata": {},
   "outputs": [
    {
     "name": "stdout",
     "output_type": "stream",
     "text": [
      "Linear SVM= 0.9797979797979798\n"
     ]
    }
   ],
   "source": [
    "# Support Vector Machine (Linear) \n",
    "clf = svm.SVC(kernel = 'linear')\n",
    "clf.fit(X_train, y_train)\n",
    "output = clf.predict(X_test)\n",
    "linear = accuracy_score(y_test, output)\n",
    "print('Linear SVM=',linear)"
   ]
  },
  {
   "cell_type": "code",
   "execution_count": 4,
   "metadata": {},
   "outputs": [
    {
     "name": "stdout",
     "output_type": "stream",
     "text": [
      "smv_rbf SVM= 0.6767676767676768\n"
     ]
    }
   ],
   "source": [
    "# Support Vector Machine (rbf)\n",
    "clf2 = svm.SVC(kernel = 'rbf')\n",
    "clf2.fit(X_train, y_train)\n",
    "output = clf2.predict(X_test)\n",
    "smv_rbf = accuracy_score(y_test, output)\n",
    "print('smv_rbf SVM=',smv_rbf)"
   ]
  },
  {
   "cell_type": "code",
   "execution_count": 5,
   "metadata": {},
   "outputs": [
    {
     "name": "stdout",
     "output_type": "stream",
     "text": [
      "poly SVM= 0.8181818181818182\n"
     ]
    }
   ],
   "source": [
    "# Support Vector Machine (Polynomial)\n",
    "clf3 = svm.SVC(kernel = 'poly')\n",
    "clf3.fit(X_train, y_train)\n",
    "output = clf3.predict(X_test)\n",
    "poly = accuracy_score(y_test, output)\n",
    "print('poly SVM=',poly)"
   ]
  },
  {
   "cell_type": "code",
   "execution_count": 6,
   "metadata": {},
   "outputs": [
    {
     "name": "stdout",
     "output_type": "stream",
     "text": [
      "sigmoid SVM= 0.4444444444444444\n"
     ]
    }
   ],
   "source": [
    "# Support Vector Machine (Sigmoid)\n",
    "clf4 = svm.SVC(kernel = 'sigmoid')\n",
    "clf4.fit(X_train, y_train)\n",
    "output = clf4.predict(X_test)\n",
    "sigmoid = accuracy_score(y_test, output)\n",
    "print('sigmoid SVM=',sigmoid)"
   ]
  },
  {
   "cell_type": "code",
   "execution_count": 7,
   "metadata": {},
   "outputs": [
    {
     "name": "stdout",
     "output_type": "stream",
     "text": [
      "KNN1= 0.98989898989899\n"
     ]
    }
   ],
   "source": [
    "# K nearest Neighbors (k=1)\n",
    "clf1=KNeighborsClassifier(n_neighbors=1)\n",
    "clf1.fit(X_train, y_train)\n",
    "output = clf1.predict(X_test)\n",
    "knn = accuracy_score(y_test, output)\n",
    "print('KNN1=',knn)"
   ]
  },
  {
   "cell_type": "code",
   "execution_count": 8,
   "metadata": {},
   "outputs": [
    {
     "name": "stdout",
     "output_type": "stream",
     "text": [
      "KNN3= 0.9797979797979798\n"
     ]
    }
   ],
   "source": [
    "# K nearest Neighbors (k=3)\n",
    "clf7=KNeighborsClassifier(n_neighbors=3)\n",
    "clf7.fit(X_train, y_train)\n",
    "output = clf7.predict(X_test)\n",
    "knn = accuracy_score(y_test, output)\n",
    "print('KNN3=',knn)"
   ]
  },
  {
   "cell_type": "code",
   "execution_count": 9,
   "metadata": {},
   "outputs": [
    {
     "name": "stdout",
     "output_type": "stream",
     "text": [
      "KNN5= 0.9797979797979798\n"
     ]
    }
   ],
   "source": [
    "# K nearest Neighbors (k=5)\n",
    "clf7=KNeighborsClassifier(n_neighbors=5)\n",
    "clf7.fit(X_train, y_train)\n",
    "output = clf7.predict(X_test)\n",
    "knn = accuracy_score(y_test, output)\n",
    "print('KNN5=',knn)"
   ]
  },
  {
   "cell_type": "code",
   "execution_count": 10,
   "metadata": {},
   "outputs": [
    {
     "name": "stdout",
     "output_type": "stream",
     "text": [
      "KNN7= 0.9797979797979798\n"
     ]
    },
    {
     "data": {
      "text/plain": [
       "['clfknnfemale.sav']"
      ]
     },
     "execution_count": 10,
     "metadata": {},
     "output_type": "execute_result"
    }
   ],
   "source": [
    "# K nearest Neighbors (k=7)\n",
    "clf7=KNeighborsClassifier(n_neighbors=7)\n",
    "clf7.fit(X_train, y_train)\n",
    "output = clf7.predict(X_test)\n",
    "knn = accuracy_score(y_test, output)\n",
    "print('KNN7=',knn)\n",
    "joblib.dump(clf7, 'clfknnfemale.sav')"
   ]
  },
  {
   "cell_type": "code",
   "execution_count": 11,
   "metadata": {},
   "outputs": [
    {
     "name": "stdout",
     "output_type": "stream",
     "text": [
      "SGD= 0.6767676767676768\n"
     ]
    }
   ],
   "source": [
    "# # stochastic gradient descent (SGD)\n",
    "clf8=SGDClassifier()\n",
    "clf8.fit(X_train, y_train)\n",
    "output = clf8.predict(X_test)\n",
    "SGD = accuracy_score(y_test, output)\n",
    "print('SGD=',SGD)"
   ]
  },
  {
   "cell_type": "code",
   "execution_count": 12,
   "metadata": {},
   "outputs": [
    {
     "name": "stdout",
     "output_type": "stream",
     "text": [
      "MLP= 0.6767676767676768\n"
     ]
    }
   ],
   "source": [
    "# # Multi Layer Perceptron\n",
    "clf10=MLPClassifier()\n",
    "clf10.fit(X_train, y_train)\n",
    "output = clf10.predict(X_test)\n",
    "MLP = accuracy_score(y_test, output)\n",
    "print('MLP=',MLP)"
   ]
  },
  {
   "cell_type": "code",
   "execution_count": 13,
   "metadata": {},
   "outputs": [
    {
     "name": "stdout",
     "output_type": "stream",
     "text": [
      "kmean= 0.04040404040404041\n"
     ]
    }
   ],
   "source": [
    "# K-Mean clusturing\n",
    "clf12=KMeans()\n",
    "clf12.fit(X_train, y_train)\n",
    "output = clf12.predict(X_test)\n",
    "kmean = accuracy_score(y_test, output)\n",
    "print('kmean=',kmean)"
   ]
  }
 ],
 "metadata": {
  "kernelspec": {
   "display_name": "Python 3",
   "language": "python",
   "name": "python3"
  },
  "language_info": {
   "codemirror_mode": {
    "name": "ipython",
    "version": 3
   },
   "file_extension": ".py",
   "mimetype": "text/x-python",
   "name": "python",
   "nbconvert_exporter": "python",
   "pygments_lexer": "ipython3",
   "version": "3.8.5"
  }
 },
 "nbformat": 4,
 "nbformat_minor": 4
}
